{
 "cells": [
  {
   "cell_type": "code",
   "execution_count": null,
   "metadata": {},
   "outputs": [],
   "source": [
    "# Function to read PDF and create documents and upload document into vector store\n",
    "def read_pdf(file_path):\n",
    "    reader = PyPDF2.PdfReader(file_path)\n",
    "    texts = []\n",
    "    for page in reader.pages:\n",
    "        texts.append(page.extract_text())\n",
    "    return texts\n",
    "\n",
    "# Import PDF into vector store\n",
    "pdf_texts = read_pdf('data.pdf')\n",
    "docs = [Document(page_content=text, metadata={}) for text in pdf_texts]\n",
    "pinecone_store.add_documents(docs)"
   ]
  },
  {
   "cell_type": "code",
   "execution_count": null,
   "metadata": {},
   "outputs": [],
   "source": [
    "# import pinecone\n",
    "import requests\n",
    "from langchain_core.tools import tool\n",
    "from typing import Annotated\n",
    "from dotenv import load_dotenv\n",
    "import os\n",
    "from langchain_pinecone import PineconeVectorStore\n",
    "from langchain_openai import OpenAIEmbeddings, ChatOpenAI\n",
    "\n",
    "load_dotenv()\n",
    "\n",
    "\n",
    "\n",
    "# Initialize Pinecone\n",
    "OPENAI_API_KEY = os.getenv(\"OPENAI_API_KEY\")\n",
    "PINECONE_API_KEY = os.getenv(\"PINECONE_API_KEY\")\n",
    "PINECONE_INDEX_NAME = os.getenv(\"PINECONE_INDEX_NAME\")\n",
    "\n",
    "\n",
    "embeddings = OpenAIEmbeddings(openai_api_key=OPENAI_API_KEY)\n",
    "pinecone_store = PineconeVectorStore(embedding=embeddings, pinecone_api_key=PINECONE_API_KEY, index_name=PINECONE_INDEX_NAME)\n",
    "docsearch = pinecone_store.from_existing_index(index_name=PINECONE_INDEX_NAME, embedding=embeddings)\n",
    "\n",
    "# Define Pinecone tool\n",
    "@tool\n",
    "def pinecone_search(query: Annotated[str, \"The query to search in Pinecone.\"]):\n",
    "    # index = pinecone.Index(\"your-index-name\")\n",
    "    response = docsearch.query([query], top_k=5)\n",
    "    return response\n",
    "\n",
    "# Define OpenWeather tool\n",
    "@tool\n",
    "def get_weather(city: Annotated[str, \"The city to get weather information for.\"]):\n",
    "    api_key = os.getenv(\"OPENWEATHER_API_KEY\")\n",
    "    base_url = \"http://api.openweathermap.org/data/2.5/weather?\"\n",
    "    complete_url = base_url + \"appid=\" + api_key + \"&q=\" + city\n",
    "    response = requests.get(complete_url)\n",
    "    return response.json()\n"
   ]
  }
 ],
 "metadata": {
  "kernelspec": {
   "display_name": ".venv",
   "language": "python",
   "name": "python3"
  },
  "language_info": {
   "name": "python",
   "version": "3.12.3"
  }
 },
 "nbformat": 4,
 "nbformat_minor": 2
}
